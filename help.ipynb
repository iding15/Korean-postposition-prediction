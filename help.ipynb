{
 "cells": [
  {
   "cell_type": "markdown",
   "metadata": {},
   "source": [
    "# anlyMplog\n",
    "## 머신러닝을 활용한 조사 판별기 만들기"
   ]
  },
  {
   "cell_type": "markdown",
   "metadata": {},
   "source": [
    "## habEum\n",
    "    11172개의 한글 음절 데이터 호출하는 파일.\n",
    "    유니코드, 라이브러리 사용 x"
   ]
  },
  {
   "cell_type": "code",
   "execution_count": null,
   "metadata": {},
   "outputs": [],
   "source": [
    "from anlyMplog.habEum import hab_eum\n",
    "print(hab_eum)"
   ]
  },
  {
   "cell_type": "markdown",
   "metadata": {},
   "source": [
    "## mkEumjul\n",
    "    음절을 분리하거나, 역으로 합칠 수 있는 프로그램."
   ]
  },
  {
   "cell_type": "code",
   "execution_count": null,
   "metadata": {},
   "outputs": [],
   "source": [
    "from anlyMplog.mkEumjul import ja, mo, bat\n",
    "print(ja)\n",
    "print(mo)\n",
    "print(bat)"
   ]
  },
  {
   "cell_type": "markdown",
   "metadata": {},
   "source": [
    "### hbeum()\n",
    "    한 단위의 음절을 자음, 모음, 받침으로 구분해서 분리해주는 함수.\n",
    "### bneum()\n",
    "    자음, 모음, 받침을 하나의 음절로 모아주는 함수."
   ]
  },
  {
   "cell_type": "code",
   "execution_count": null,
   "metadata": {},
   "outputs": [],
   "source": [
    "import anlyMplog.mkEumjul as ae\n",
    "print(ae.hbeum('ㄱㅗㄹ'))\n",
    "print(ae.bneum('활'))"
   ]
  },
  {
   "cell_type": "markdown",
   "metadata": {},
   "source": [
    "## sepChunk\n",
    "    sebChunk 모듈은 자음, 모음, 받침을 실수형으로 수치화 하고, 어떤 문자열 리스트가 들어왔을때, 이것을 형태소 단위로 분리해서 리스트로 보여주거나, 수치화한 단일 값으로 보여주는 프로그램.\n",
    "### sepChunk.fmo\n",
    "### sepChunk.fja\n",
    "### sepChunk.fbt"
   ]
  },
  {
   "cell_type": "code",
   "execution_count": null,
   "metadata": {},
   "outputs": [],
   "source": [
    "import anlyMplog.sepChunk as ac\n",
    "print(ac.fmo)\n",
    "print(ac.fja)\n",
    "print(ac.fbt)"
   ]
  },
  {
   "cell_type": "markdown",
   "metadata": {},
   "source": [
    "### divsen()\n",
    "    문자열을 형태소 단위로 분리해서 보여주는 함수.\n",
    "    sen=type: str\n",
    "### numsen()\n",
    "    문자열을 수치화한 단일값으로 보여주는 함수\n",
    "    sen=type:str"
   ]
  },
  {
   "cell_type": "markdown",
   "metadata": {},
   "source": [
    "### md()\n",
    "    chunk단위로 리스트가 들어왔을 때 이를 형태소 단위로 분리한 후 수치화한 단일값을 반환해 리스트로 보여주는 함수.\n",
    "    l_chunk=type:list"
   ]
  },
  {
   "cell_type": "code",
   "execution_count": null,
   "metadata": {},
   "outputs": [],
   "source": [
    "print(ac.md(['사랑','누구나하는']))"
   ]
  },
  {
   "cell_type": "markdown",
   "metadata": {},
   "source": [
    "## cfJosa\n",
    "### decideJosa(l_noun)\n",
    "    default 데이터로 noundata를 갖고 있는 클래스 모듈.\n",
    "    l_noun=type: list\n",
    "    l_noun는 명사리스트를 지칭\n",
    "#### noundata\n",
    "    type: list\n",
    "    length: 100\n",
    "#### EunNeun()\n",
    "    각각의 명사 인자에 맞는 조사를 구분, '은'/'는'\n",
    "#### IGa()\n",
    "    각각의 명사 인자에 맞는 조사를 구분, '이'/'가'\n",
    "#### EulRul()\n",
    "    각각의 명사 인자에 맞는 조사를 구분, '을'/'를'"
   ]
  },
  {
   "cell_type": "code",
   "execution_count": null,
   "metadata": {},
   "outputs": [],
   "source": [
    "import anlyMplog.cfJosa as aj\n",
    "print(aj.decideJosa.noundata)\n",
    "# 예시\n",
    "p = aj.decideJosa().EunNeun()\n",
    "print(p)\n",
    "a = aj.decideJosa(['다람쥐', '사람']).EunNeun()\n",
    "print(a)"
   ]
  },
  {
   "cell_type": "markdown",
   "metadata": {},
   "source": [
    "## pred\n",
    "### mkdata()\n",
    "    리스트 데이터를 2차원 배열로 나타내주는 함수.\n",
    "### mktarget\n",
    "    '은'/'는', '이'/'가', '을'/'를'을 각각 0과1의 정수표현으로 나타내 주는 클래스\n",
    "#### t_en()\n",
    "#### t_ig()\n",
    "#### t_er()\n",
    "\n",
    "### predJo(noun, josa)\n",
    "    noun을 feature, josa를 target으로 하는 의사결정 트리를 활용한 예측함수.\n",
    "    예측정확도, 오류가 난 인덱스 리스트를 출력하고, 예측 결과를 데이터프레임으로 반환한다."
   ]
  },
  {
   "cell_type": "code",
   "execution_count": null,
   "metadata": {},
   "outputs": [],
   "source": [
    "import anlyMplog.pred as ap\n",
    "import anlyMplog.cfJosa as ac\n",
    "noun = ap.mkdata(ac.decideJosa.noundata)\n",
    "en = ap.mktarget().t_en()\n",
    "ig = ap.mktarget().t_ig()\n",
    "er = ap.mktarget().t_er()\n",
    "# print(en)\n",
    "# print(ig)\n",
    "# print(er)\n",
    "print(ap.predjo(noun,en))"
   ]
  }
 ],
 "metadata": {
  "kernelspec": {
   "display_name": "Python 3",
   "language": "python",
   "name": "python3"
  },
  "language_info": {
   "codemirror_mode": {
    "name": "ipython",
    "version": 3
   },
   "file_extension": ".py",
   "mimetype": "text/x-python",
   "name": "python",
   "nbconvert_exporter": "python",
   "pygments_lexer": "ipython3",
   "version": "3.6.9"
  }
 },
 "nbformat": 4,
 "nbformat_minor": 2
}
